{
 "cells": [
  {
   "cell_type": "code",
   "execution_count": 1,
   "id": "c4d0a533",
   "metadata": {},
   "outputs": [],
   "source": [
    "import numpy as np"
   ]
  },
  {
   "cell_type": "code",
   "execution_count": 3,
   "id": "1ab63e17",
   "metadata": {},
   "outputs": [
    {
     "data": {
      "text/plain": [
       "[1, 2, 3, 4]"
      ]
     },
     "execution_count": 3,
     "metadata": {},
     "output_type": "execute_result"
    }
   ],
   "source": [
    "lst=[1,2,3,4]\n",
    "lst"
   ]
  },
  {
   "cell_type": "code",
   "execution_count": 4,
   "id": "4f68b0b6",
   "metadata": {},
   "outputs": [
    {
     "data": {
      "text/plain": [
       "array([1, 2, 3, 4])"
      ]
     },
     "execution_count": 4,
     "metadata": {},
     "output_type": "execute_result"
    }
   ],
   "source": [
    "arr=np.array(lst)\n",
    "arr"
   ]
  },
  {
   "cell_type": "code",
   "execution_count": 5,
   "id": "b3101e86",
   "metadata": {},
   "outputs": [
    {
     "data": {
      "text/plain": [
       "numpy.ndarray"
      ]
     },
     "execution_count": 5,
     "metadata": {},
     "output_type": "execute_result"
    }
   ],
   "source": [
    "type(arr)"
   ]
  },
  {
   "cell_type": "code",
   "execution_count": 6,
   "id": "3f115bbf",
   "metadata": {},
   "outputs": [
    {
     "data": {
      "text/plain": [
       "(4,)"
      ]
     },
     "execution_count": 6,
     "metadata": {},
     "output_type": "execute_result"
    }
   ],
   "source": [
    "arr.shape"
   ]
  },
  {
   "cell_type": "code",
   "execution_count": 7,
   "id": "903c8c35",
   "metadata": {},
   "outputs": [
    {
     "data": {
      "text/plain": [
       "list"
      ]
     },
     "execution_count": 7,
     "metadata": {},
     "output_type": "execute_result"
    }
   ],
   "source": [
    "type(lst)"
   ]
  },
  {
   "cell_type": "code",
   "execution_count": 8,
   "id": "419cf70e",
   "metadata": {},
   "outputs": [
    {
     "data": {
      "text/plain": [
       "array([[1, 2],\n",
       "       [3, 4]])"
      ]
     },
     "execution_count": 8,
     "metadata": {},
     "output_type": "execute_result"
    }
   ],
   "source": [
    "arr.reshape(2,2)"
   ]
  },
  {
   "cell_type": "code",
   "execution_count": 15,
   "id": "c1451f71",
   "metadata": {
    "scrolled": true
   },
   "outputs": [
    {
     "data": {
      "text/plain": [
       "array([[1, 2, 3],\n",
       "       [4, 5, 6],\n",
       "       [7, 8, 9]])"
      ]
     },
     "execution_count": 15,
     "metadata": {},
     "output_type": "execute_result"
    }
   ],
   "source": [
    "lst1=[1,2,3]\n",
    "lst2=[4,5,6]\n",
    "lst3=[7,8,9]\n",
    "arr1=np.array([lst1,lst2,lst3])\n",
    "arr1"
   ]
  },
  {
   "cell_type": "code",
   "execution_count": 16,
   "id": "1c10ae36",
   "metadata": {
    "scrolled": true
   },
   "outputs": [
    {
     "data": {
      "text/plain": [
       "array([[1],\n",
       "       [2],\n",
       "       [3],\n",
       "       [4],\n",
       "       [5],\n",
       "       [6],\n",
       "       [7],\n",
       "       [8],\n",
       "       [9]])"
      ]
     },
     "execution_count": 16,
     "metadata": {},
     "output_type": "execute_result"
    }
   ],
   "source": [
    "arr1.reshape(9,1)"
   ]
  },
  {
   "cell_type": "code",
   "execution_count": 17,
   "id": "b52777ec",
   "metadata": {},
   "outputs": [
    {
     "data": {
      "text/plain": [
       "array([[1, 2, 3, 4, 5, 6, 7, 8, 9]])"
      ]
     },
     "execution_count": 17,
     "metadata": {},
     "output_type": "execute_result"
    }
   ],
   "source": [
    "arr1.reshape(1,9)"
   ]
  },
  {
   "cell_type": "markdown",
   "id": "ef30795e",
   "metadata": {},
   "source": [
    "# indexing"
   ]
  },
  {
   "cell_type": "code",
   "execution_count": 18,
   "id": "a79ee86a",
   "metadata": {},
   "outputs": [
    {
     "data": {
      "text/plain": [
       "array([[1, 2, 3],\n",
       "       [4, 5, 6],\n",
       "       [7, 8, 9]])"
      ]
     },
     "execution_count": 18,
     "metadata": {},
     "output_type": "execute_result"
    }
   ],
   "source": [
    "arr1"
   ]
  },
  {
   "cell_type": "code",
   "execution_count": 24,
   "id": "86c5a81a",
   "metadata": {},
   "outputs": [
    {
     "data": {
      "text/plain": [
       "array([[2, 3],\n",
       "       [5, 6]])"
      ]
     },
     "execution_count": 24,
     "metadata": {},
     "output_type": "execute_result"
    }
   ],
   "source": [
    "arr1[0:2,1:3]"
   ]
  },
  {
   "cell_type": "markdown",
   "id": "409b709d",
   "metadata": {},
   "source": [
    "# Maps"
   ]
  },
  {
   "cell_type": "code",
   "execution_count": 28,
   "id": "73671681",
   "metadata": {},
   "outputs": [],
   "source": [
    "def odd_even(num):\n",
    "    if(num%2==0):\n",
    "        return \"{} is even\".format(num)\n",
    "    else:\n",
    "        return \"{} is odd\".format(num)"
   ]
  },
  {
   "cell_type": "code",
   "execution_count": 31,
   "id": "2f6c2f5c",
   "metadata": {},
   "outputs": [
    {
     "data": {
      "text/plain": [
       "'24 is even'"
      ]
     },
     "execution_count": 31,
     "metadata": {},
     "output_type": "execute_result"
    }
   ],
   "source": [
    "odd_even(24)"
   ]
  },
  {
   "cell_type": "code",
   "execution_count": 32,
   "id": "1647c28d",
   "metadata": {},
   "outputs": [],
   "source": [
    "lst=[1,2,3,4,5,6,7,8,9]"
   ]
  },
  {
   "cell_type": "code",
   "execution_count": 33,
   "id": "59072b6f",
   "metadata": {},
   "outputs": [
    {
     "data": {
      "text/plain": [
       "['1 is odd',\n",
       " '2 is even',\n",
       " '3 is odd',\n",
       " '4 is even',\n",
       " '5 is odd',\n",
       " '6 is even',\n",
       " '7 is odd',\n",
       " '8 is even',\n",
       " '9 is odd']"
      ]
     },
     "execution_count": 33,
     "metadata": {},
     "output_type": "execute_result"
    }
   ],
   "source": [
    "list(map(odd_even,lst))"
   ]
  },
  {
   "cell_type": "markdown",
   "id": "09b54e7a",
   "metadata": {},
   "source": [
    "# lambda fn\n",
    "anonymous fn (a fn with no name)"
   ]
  },
  {
   "cell_type": "code",
   "execution_count": 34,
   "id": "68a2e56a",
   "metadata": {},
   "outputs": [],
   "source": [
    "def add(a,b):\n",
    "    return a+b"
   ]
  },
  {
   "cell_type": "code",
   "execution_count": 35,
   "id": "6f6c01af",
   "metadata": {},
   "outputs": [
    {
     "data": {
      "text/plain": [
       "9"
      ]
     },
     "execution_count": 35,
     "metadata": {},
     "output_type": "execute_result"
    }
   ],
   "source": [
    "add(4,5)"
   ]
  },
  {
   "cell_type": "code",
   "execution_count": 38,
   "id": "07e85b0b",
   "metadata": {},
   "outputs": [],
   "source": [
    "add1=lambda a,b:a+b"
   ]
  },
  {
   "cell_type": "code",
   "execution_count": 39,
   "id": "459374df",
   "metadata": {},
   "outputs": [
    {
     "data": {
      "text/plain": [
       "25"
      ]
     },
     "execution_count": 39,
     "metadata": {},
     "output_type": "execute_result"
    }
   ],
   "source": [
    "add1(12,13)"
   ]
  },
  {
   "cell_type": "markdown",
   "id": "5b8b88f1",
   "metadata": {},
   "source": [
    "# filter function in python"
   ]
  },
  {
   "cell_type": "code",
   "execution_count": 42,
   "id": "7b63e2b6",
   "metadata": {},
   "outputs": [],
   "source": [
    "def even(num):\n",
    "    if num%2==0:\n",
    "        return True"
   ]
  },
  {
   "cell_type": "code",
   "execution_count": 43,
   "id": "da88ced5",
   "metadata": {},
   "outputs": [
    {
     "data": {
      "text/plain": [
       "[2, 4, 6, 8]"
      ]
     },
     "execution_count": 43,
     "metadata": {},
     "output_type": "execute_result"
    }
   ],
   "source": [
    "list(filter(even,lst))  #ONLY RETURNS VALUE THAT ARE EVEN"
   ]
  },
  {
   "cell_type": "code",
   "execution_count": 44,
   "id": "2b95732a",
   "metadata": {},
   "outputs": [
    {
     "data": {
      "text/plain": [
       "[2, 4, 6, 8]"
      ]
     },
     "execution_count": 44,
     "metadata": {},
     "output_type": "execute_result"
    }
   ],
   "source": [
    "list(filter(lambda num:num%2==0,lst))"
   ]
  },
  {
   "cell_type": "markdown",
   "id": "144f6fcd",
   "metadata": {},
   "source": [
    "# list comprehension"
   ]
  },
  {
   "cell_type": "code",
   "execution_count": 28,
   "id": "0426e862",
   "metadata": {},
   "outputs": [
    {
     "data": {
      "text/plain": [
       "['apple', 'banana', 'mango']"
      ]
     },
     "execution_count": 28,
     "metadata": {},
     "output_type": "execute_result"
    }
   ],
   "source": [
    "fruits = [\"apple\", \"banana\", \"cherry\", \"kiwi\", \"mango\"]\n",
    "newlist = [x for x in fruits if \"a\" in x]\n",
    "newlist"
   ]
  },
  {
   "cell_type": "code",
   "execution_count": 29,
   "id": "828ab3bf",
   "metadata": {},
   "outputs": [
    {
     "data": {
      "text/plain": [
       "[2, 4, 6, 8]"
      ]
     },
     "execution_count": 29,
     "metadata": {},
     "output_type": "execute_result"
    }
   ],
   "source": [
    "lst1=[1,2,3,4,5,6,7,8,9]\n",
    "lst2=[x for x in lst1 if x%2==0]\n",
    "lst2"
   ]
  },
  {
   "cell_type": "code",
   "execution_count": 31,
   "id": "08f1eb53",
   "metadata": {},
   "outputs": [
    {
     "data": {
      "text/plain": [
       "[0, 1, 2, 3, 4, 5, 6, 7, 8, 9]"
      ]
     },
     "execution_count": 31,
     "metadata": {},
     "output_type": "execute_result"
    }
   ],
   "source": [
    "lst3 = [x for x in range(10)]\n",
    "lst3"
   ]
  },
  {
   "cell_type": "markdown",
   "id": "ca886e18",
   "metadata": {},
   "source": [
    "# fetching dataset from api "
   ]
  },
  {
   "cell_type": "code",
   "execution_count": 1,
   "id": "48c5fef5",
   "metadata": {},
   "outputs": [],
   "source": [
    "import pandas as pd\n",
    "import requests"
   ]
  },
  {
   "cell_type": "code",
   "execution_count": null,
   "id": "a989b56b",
   "metadata": {},
   "outputs": [],
   "source": [
    "# use different websites like rapidapi to get different dataset\n",
    "# response=requests.get(api)"
   ]
  },
  {
   "cell_type": "code",
   "execution_count": null,
   "id": "03fb95f8",
   "metadata": {},
   "outputs": [],
   "source": [
    "# to convert obtained json into pandas dataframe\n",
    "# pd.DataFrame(response.json()['results'])"
   ]
  },
  {
   "cell_type": "markdown",
   "id": "0ad3d004",
   "metadata": {},
   "source": [
    "# writing own linear regression class from scratch"
   ]
  },
  {
   "cell_type": "code",
   "execution_count": 23,
   "id": "9c19a521",
   "metadata": {},
   "outputs": [],
   "source": [
    "class meralinearReg:\n",
    "    def _init__(self):\n",
    "        self.m=None\n",
    "        self.b=None\n",
    "    \n",
    "    def fit(self,x_train,y_train):\n",
    "        num=0\n",
    "        den=0\n",
    "        for i in range(x_train.shape[0]):\n",
    "            num =num+((x_train[i]-x_train.mean())*(y_train[i]-y_train.mean()))\n",
    "            den=den+((x_train[i]-x_train.mean())*(x_train[i]-x_train.mean()))\n",
    "        self.m=num/den\n",
    "        self.b=y_train.mean()-self.m*x_train.mean()\n",
    "        print(self.m)\n",
    "        print(self.b)\n",
    "        \n",
    "        \n",
    "    def predict(self,x_test):\n",
    "        print(x_test)\n",
    "        return self.m*x_test+self.b\n",
    "        "
   ]
  },
  {
   "cell_type": "code",
   "execution_count": 24,
   "id": "655e8ad4",
   "metadata": {},
   "outputs": [],
   "source": [
    "import numpy as np\n",
    "import pandas as pd"
   ]
  },
  {
   "cell_type": "code",
   "execution_count": 25,
   "id": "8866cd9a",
   "metadata": {},
   "outputs": [],
   "source": [
    "df=pd.read_csv('placement.csv')"
   ]
  },
  {
   "cell_type": "code",
   "execution_count": 26,
   "id": "7b8bddd6",
   "metadata": {},
   "outputs": [
    {
     "data": {
      "text/html": [
       "<div>\n",
       "<style scoped>\n",
       "    .dataframe tbody tr th:only-of-type {\n",
       "        vertical-align: middle;\n",
       "    }\n",
       "\n",
       "    .dataframe tbody tr th {\n",
       "        vertical-align: top;\n",
       "    }\n",
       "\n",
       "    .dataframe thead th {\n",
       "        text-align: right;\n",
       "    }\n",
       "</style>\n",
       "<table border=\"1\" class=\"dataframe\">\n",
       "  <thead>\n",
       "    <tr style=\"text-align: right;\">\n",
       "      <th></th>\n",
       "      <th>cgpa</th>\n",
       "      <th>package</th>\n",
       "    </tr>\n",
       "  </thead>\n",
       "  <tbody>\n",
       "    <tr>\n",
       "      <th>0</th>\n",
       "      <td>6.89</td>\n",
       "      <td>3.26</td>\n",
       "    </tr>\n",
       "    <tr>\n",
       "      <th>1</th>\n",
       "      <td>5.12</td>\n",
       "      <td>1.98</td>\n",
       "    </tr>\n",
       "    <tr>\n",
       "      <th>2</th>\n",
       "      <td>7.82</td>\n",
       "      <td>3.25</td>\n",
       "    </tr>\n",
       "    <tr>\n",
       "      <th>3</th>\n",
       "      <td>7.42</td>\n",
       "      <td>3.67</td>\n",
       "    </tr>\n",
       "    <tr>\n",
       "      <th>4</th>\n",
       "      <td>6.94</td>\n",
       "      <td>3.57</td>\n",
       "    </tr>\n",
       "  </tbody>\n",
       "</table>\n",
       "</div>"
      ],
      "text/plain": [
       "   cgpa  package\n",
       "0  6.89     3.26\n",
       "1  5.12     1.98\n",
       "2  7.82     3.25\n",
       "3  7.42     3.67\n",
       "4  6.94     3.57"
      ]
     },
     "execution_count": 26,
     "metadata": {},
     "output_type": "execute_result"
    }
   ],
   "source": [
    "df.head()"
   ]
  },
  {
   "cell_type": "code",
   "execution_count": 27,
   "id": "33e8d3cd",
   "metadata": {},
   "outputs": [],
   "source": [
    "x=df.iloc[:,0].values\n",
    "y=df.iloc[:,1].values"
   ]
  },
  {
   "cell_type": "code",
   "execution_count": 28,
   "id": "10467a71",
   "metadata": {},
   "outputs": [
    {
     "data": {
      "text/plain": [
       "array([6.89, 5.12, 7.82, 7.42, 6.94, 7.89, 6.73, 6.75, 6.09, 8.31, 5.32,\n",
       "       6.61, 8.94, 6.93, 7.73, 7.25, 6.84, 5.38, 6.94, 7.48, 7.28, 6.85,\n",
       "       6.14, 6.19, 6.53, 7.28, 8.31, 5.42, 5.94, 7.15, 7.36, 8.1 , 6.96,\n",
       "       6.35, 7.34, 6.87, 5.99, 5.9 , 8.62, 7.43, 9.38, 6.89, 5.95, 7.66,\n",
       "       5.09, 7.87, 6.07, 5.84, 8.63, 8.87, 9.58, 9.26, 8.37, 6.47, 6.86,\n",
       "       8.2 , 5.84, 6.6 , 6.92, 7.56, 5.61, 5.48, 6.34, 9.16, 7.36, 7.6 ,\n",
       "       5.11, 6.51, 7.56, 7.3 , 5.79, 7.47, 7.78, 8.44, 6.85, 6.97, 6.94,\n",
       "       8.99, 6.59, 7.18, 7.63, 6.1 , 5.58, 8.44, 4.26, 4.79, 7.61, 8.09,\n",
       "       4.73, 6.42, 7.11, 6.22, 7.9 , 6.79, 5.83, 6.63, 7.11, 5.98, 7.69,\n",
       "       6.61, 7.95, 6.71, 5.13, 7.05, 7.62, 6.66, 6.13, 6.33, 7.76, 7.77,\n",
       "       8.18, 5.42, 8.58, 6.94, 5.84, 8.35, 9.04, 7.12, 7.4 , 7.39, 5.23,\n",
       "       6.5 , 5.12, 5.1 , 6.06, 7.33, 5.91, 6.78, 7.93, 7.29, 6.68, 6.37,\n",
       "       5.84, 6.05, 7.2 , 6.1 , 5.64, 7.14, 7.91, 7.19, 7.91, 6.76, 6.93,\n",
       "       4.85, 6.17, 5.84, 6.07, 5.66, 7.57, 8.28, 6.3 , 6.12, 7.37, 7.94,\n",
       "       7.08, 6.98, 7.38, 6.47, 5.95, 8.71, 7.13, 7.3 , 5.53, 8.93, 9.06,\n",
       "       8.21, 8.6 , 8.13, 8.65, 9.31, 6.22, 8.01, 6.93, 6.75, 7.32, 7.04,\n",
       "       6.29, 7.09, 8.15, 7.14, 6.19, 8.22, 5.88, 7.28, 7.88, 6.31, 7.84,\n",
       "       6.26, 7.35, 8.11, 6.19, 7.28, 8.25, 4.57, 7.89, 6.93, 5.89, 7.21,\n",
       "       7.63, 6.22])"
      ]
     },
     "execution_count": 28,
     "metadata": {},
     "output_type": "execute_result"
    }
   ],
   "source": [
    "x"
   ]
  },
  {
   "cell_type": "code",
   "execution_count": 29,
   "id": "e9239b20",
   "metadata": {},
   "outputs": [
    {
     "data": {
      "text/plain": [
       "array([3.26, 1.98, 3.25, 3.67, 3.57, 2.99, 2.6 , 2.48, 2.31, 3.51, 1.86,\n",
       "       2.6 , 3.65, 2.89, 3.42, 3.23, 2.35, 2.09, 2.98, 2.83, 3.16, 2.93,\n",
       "       2.3 , 2.48, 2.71, 3.65, 3.42, 2.16, 2.24, 3.49, 3.26, 3.89, 3.08,\n",
       "       2.73, 3.42, 2.87, 2.84, 2.43, 4.36, 3.33, 4.02, 2.7 , 2.54, 2.76,\n",
       "       1.86, 3.58, 2.26, 3.26, 4.09, 4.62, 4.43, 3.79, 4.11, 2.61, 3.09,\n",
       "       3.39, 2.74, 1.94, 3.09, 3.31, 2.19, 1.61, 2.09, 4.25, 2.92, 3.81,\n",
       "       1.63, 2.89, 2.99, 2.94, 2.35, 3.34, 3.62, 4.03, 3.44, 3.28, 3.15,\n",
       "       4.6 , 2.21, 3.  , 3.44, 2.2 , 2.17, 3.49, 1.53, 1.48, 2.77, 3.55,\n",
       "       1.48, 2.72, 2.66, 2.14, 4.  , 3.08, 2.42, 2.79, 2.61, 2.84, 3.83,\n",
       "       3.24, 4.14, 3.52, 1.37, 3.  , 3.74, 2.82, 2.19, 2.59, 3.54, 4.06,\n",
       "       3.76, 2.25, 4.1 , 2.37, 1.87, 4.21, 3.33, 2.99, 2.88, 2.65, 1.73,\n",
       "       3.02, 2.01, 2.3 , 2.31, 3.16, 2.6 , 3.11, 3.34, 3.12, 2.49, 2.01,\n",
       "       2.48, 2.58, 2.83, 2.6 , 2.1 , 3.13, 3.89, 2.4 , 3.15, 3.18, 3.04,\n",
       "       1.54, 2.42, 2.18, 2.46, 2.21, 3.4 , 3.67, 2.73, 2.76, 3.08, 3.99,\n",
       "       2.85, 3.09, 3.13, 2.7 , 3.04, 4.08, 2.93, 3.33, 2.55, 3.91, 3.82,\n",
       "       4.08, 3.98, 3.6 , 3.52, 4.37, 2.87, 3.76, 2.51, 2.56, 2.99, 3.5 ,\n",
       "       3.23, 3.64, 3.63, 3.03, 2.72, 3.89, 2.08, 2.72, 3.14, 3.18, 3.47,\n",
       "       2.44, 3.08, 4.06, 2.69, 3.48, 3.75, 1.94, 3.67, 2.46, 2.57, 3.24,\n",
       "       3.96, 2.33])"
      ]
     },
     "execution_count": 29,
     "metadata": {},
     "output_type": "execute_result"
    }
   ],
   "source": [
    "y"
   ]
  },
  {
   "cell_type": "code",
   "execution_count": 30,
   "id": "9b7404cf",
   "metadata": {},
   "outputs": [],
   "source": [
    "import sklearn\n",
    "from sklearn.model_selection import train_test_split\n",
    "x_train,x_test,y_train,y_test=train_test_split(x,y,test_size=0.2,random_state=2)"
   ]
  },
  {
   "cell_type": "code",
   "execution_count": 31,
   "id": "3558d294",
   "metadata": {},
   "outputs": [],
   "source": [
    "lr=meralinearReg()"
   ]
  },
  {
   "cell_type": "code",
   "execution_count": 32,
   "id": "ae07d568",
   "metadata": {},
   "outputs": [
    {
     "name": "stdout",
     "output_type": "stream",
     "text": [
      "0.5579519734250721\n",
      "-0.8961119222429152\n"
     ]
    }
   ],
   "source": [
    "lr.fit(x_train,y_train)"
   ]
  },
  {
   "cell_type": "code",
   "execution_count": 33,
   "id": "efd57b93",
   "metadata": {},
   "outputs": [
    {
     "name": "stdout",
     "output_type": "stream",
     "text": [
      "8.58\n"
     ]
    },
    {
     "data": {
      "text/plain": [
       "3.891116009744203"
      ]
     },
     "execution_count": 33,
     "metadata": {},
     "output_type": "execute_result"
    }
   ],
   "source": [
    "lr.predict(x_test[0])"
   ]
  },
  {
   "cell_type": "code",
   "execution_count": 34,
   "id": "5c1fb924",
   "metadata": {},
   "outputs": [
    {
     "data": {
      "text/plain": [
       "8.58"
      ]
     },
     "execution_count": 34,
     "metadata": {},
     "output_type": "execute_result"
    }
   ],
   "source": [
    "x_test[0]"
   ]
  },
  {
   "cell_type": "code",
   "execution_count": 35,
   "id": "f39a8fa5",
   "metadata": {},
   "outputs": [
    {
     "data": {
      "text/plain": [
       "4.1"
      ]
     },
     "execution_count": 35,
     "metadata": {},
     "output_type": "execute_result"
    }
   ],
   "source": [
    "y_test[0]"
   ]
  },
  {
   "cell_type": "markdown",
   "id": "6cc07505",
   "metadata": {},
   "source": [
    "# Multiple linear regression from scratch"
   ]
  },
  {
   "cell_type": "code",
   "execution_count": 36,
   "id": "14ea3d6a",
   "metadata": {},
   "outputs": [],
   "source": [
    "import numpy as np\n",
    "from sklearn.datasets import load_diabetes"
   ]
  },
  {
   "cell_type": "code",
   "execution_count": 38,
   "id": "207491ac",
   "metadata": {},
   "outputs": [],
   "source": [
    "x,y=load_diabetes(return_X_y=True)"
   ]
  },
  {
   "cell_type": "code",
   "execution_count": 43,
   "id": "25eb8079",
   "metadata": {},
   "outputs": [
    {
     "data": {
      "text/plain": [
       "array([[ 0.03807591,  0.05068012,  0.06169621, ..., -0.00259226,\n",
       "         0.01990842, -0.01764613],\n",
       "       [-0.00188202, -0.04464164, -0.05147406, ..., -0.03949338,\n",
       "        -0.06832974, -0.09220405],\n",
       "       [ 0.08529891,  0.05068012,  0.04445121, ..., -0.00259226,\n",
       "         0.00286377, -0.02593034],\n",
       "       ...,\n",
       "       [ 0.04170844,  0.05068012, -0.01590626, ..., -0.01107952,\n",
       "        -0.04687948,  0.01549073],\n",
       "       [-0.04547248, -0.04464164,  0.03906215, ...,  0.02655962,\n",
       "         0.04452837, -0.02593034],\n",
       "       [-0.04547248, -0.04464164, -0.0730303 , ..., -0.03949338,\n",
       "        -0.00421986,  0.00306441]])"
      ]
     },
     "execution_count": 43,
     "metadata": {},
     "output_type": "execute_result"
    }
   ],
   "source": [
    "x"
   ]
  },
  {
   "cell_type": "code",
   "execution_count": 40,
   "id": "aa56899d",
   "metadata": {},
   "outputs": [
    {
     "data": {
      "text/plain": [
       "array([151.,  75., 141., 206., 135.,  97., 138.,  63., 110., 310., 101.,\n",
       "        69., 179., 185., 118., 171., 166., 144.,  97., 168.,  68.,  49.,\n",
       "        68., 245., 184., 202., 137.,  85., 131., 283., 129.,  59., 341.,\n",
       "        87.,  65., 102., 265., 276., 252.,  90., 100.,  55.,  61.,  92.,\n",
       "       259.,  53., 190., 142.,  75., 142., 155., 225.,  59., 104., 182.,\n",
       "       128.,  52.,  37., 170., 170.,  61., 144.,  52., 128.,  71., 163.,\n",
       "       150.,  97., 160., 178.,  48., 270., 202., 111.,  85.,  42., 170.,\n",
       "       200., 252., 113., 143.,  51.,  52., 210.,  65., 141.,  55., 134.,\n",
       "        42., 111.,  98., 164.,  48.,  96.,  90., 162., 150., 279.,  92.,\n",
       "        83., 128., 102., 302., 198.,  95.,  53., 134., 144., 232.,  81.,\n",
       "       104.,  59., 246., 297., 258., 229., 275., 281., 179., 200., 200.,\n",
       "       173., 180.,  84., 121., 161.,  99., 109., 115., 268., 274., 158.,\n",
       "       107.,  83., 103., 272.,  85., 280., 336., 281., 118., 317., 235.,\n",
       "        60., 174., 259., 178., 128.,  96., 126., 288.,  88., 292.,  71.,\n",
       "       197., 186.,  25.,  84.,  96., 195.,  53., 217., 172., 131., 214.,\n",
       "        59.,  70., 220., 268., 152.,  47.,  74., 295., 101., 151., 127.,\n",
       "       237., 225.,  81., 151., 107.,  64., 138., 185., 265., 101., 137.,\n",
       "       143., 141.,  79., 292., 178.,  91., 116.,  86., 122.,  72., 129.,\n",
       "       142.,  90., 158.,  39., 196., 222., 277.,  99., 196., 202., 155.,\n",
       "        77., 191.,  70.,  73.,  49.,  65., 263., 248., 296., 214., 185.,\n",
       "        78.,  93., 252., 150.,  77., 208.,  77., 108., 160.,  53., 220.,\n",
       "       154., 259.,  90., 246., 124.,  67.,  72., 257., 262., 275., 177.,\n",
       "        71.,  47., 187., 125.,  78.,  51., 258., 215., 303., 243.,  91.,\n",
       "       150., 310., 153., 346.,  63.,  89.,  50.,  39., 103., 308., 116.,\n",
       "       145.,  74.,  45., 115., 264.,  87., 202., 127., 182., 241.,  66.,\n",
       "        94., 283.,  64., 102., 200., 265.,  94., 230., 181., 156., 233.,\n",
       "        60., 219.,  80.,  68., 332., 248.,  84., 200.,  55.,  85.,  89.,\n",
       "        31., 129.,  83., 275.,  65., 198., 236., 253., 124.,  44., 172.,\n",
       "       114., 142., 109., 180., 144., 163., 147.,  97., 220., 190., 109.,\n",
       "       191., 122., 230., 242., 248., 249., 192., 131., 237.,  78., 135.,\n",
       "       244., 199., 270., 164.,  72.,  96., 306.,  91., 214.,  95., 216.,\n",
       "       263., 178., 113., 200., 139., 139.,  88., 148.,  88., 243.,  71.,\n",
       "        77., 109., 272.,  60.,  54., 221.,  90., 311., 281., 182., 321.,\n",
       "        58., 262., 206., 233., 242., 123., 167.,  63., 197.,  71., 168.,\n",
       "       140., 217., 121., 235., 245.,  40.,  52., 104., 132.,  88.,  69.,\n",
       "       219.,  72., 201., 110.,  51., 277.,  63., 118.,  69., 273., 258.,\n",
       "        43., 198., 242., 232., 175.,  93., 168., 275., 293., 281.,  72.,\n",
       "       140., 189., 181., 209., 136., 261., 113., 131., 174., 257.,  55.,\n",
       "        84.,  42., 146., 212., 233.,  91., 111., 152., 120.,  67., 310.,\n",
       "        94., 183.,  66., 173.,  72.,  49.,  64.,  48., 178., 104., 132.,\n",
       "       220.,  57.])"
      ]
     },
     "execution_count": 40,
     "metadata": {},
     "output_type": "execute_result"
    }
   ],
   "source": [
    "y"
   ]
  },
  {
   "cell_type": "code",
   "execution_count": 55,
   "id": "0ab29c19",
   "metadata": {},
   "outputs": [],
   "source": [
    "class meralr:\n",
    "    def __init__(self):\n",
    "        self.coef=None\n",
    "        self.intercept=None\n",
    "    \n",
    "    def fit(self,x_train,y_train):\n",
    "        x_train=np.insert(x_train,0,1,axis=1)\n",
    "        beta=np.linalg.inv(np.dot(x_train.T,x_train)).dot(x_train.T).dot(y_train)\n",
    "        self.intercept_=beta[0]\n",
    "        self.coef_=beta[1:]\n",
    "    \n",
    "    def predict(self,x_test):\n",
    "        y_pred=np.dot(x_test,self.coef_)+self.intercept_\n",
    "        return y_pred\n",
    "        "
   ]
  },
  {
   "cell_type": "code",
   "execution_count": 56,
   "id": "f5ab888a",
   "metadata": {},
   "outputs": [],
   "source": [
    "lr=meralr()"
   ]
  },
  {
   "cell_type": "code",
   "execution_count": 57,
   "id": "533f2808",
   "metadata": {},
   "outputs": [],
   "source": [
    "from sklearn.model_selection import train_test_split\n",
    "x_train,x_test,y_train,y_test = train_test_split(x,y,test_size=0.2,random_state=2)"
   ]
  },
  {
   "cell_type": "code",
   "execution_count": 58,
   "id": "42fbf1f4",
   "metadata": {},
   "outputs": [],
   "source": [
    "lr.fit(x_train,y_train)"
   ]
  },
  {
   "cell_type": "code",
   "execution_count": 59,
   "id": "0094e146",
   "metadata": {},
   "outputs": [],
   "source": [
    "y_pred = lr.predict(x_test)"
   ]
  },
  {
   "cell_type": "code",
   "execution_count": 61,
   "id": "bef55321",
   "metadata": {},
   "outputs": [
    {
     "data": {
      "text/plain": [
       "0.43993876600246407"
      ]
     },
     "execution_count": 61,
     "metadata": {},
     "output_type": "execute_result"
    }
   ],
   "source": [
    "from sklearn.metrics import r2_score\n",
    "r2_score(y_test,y_pred)"
   ]
  },
  {
   "cell_type": "code",
   "execution_count": 62,
   "id": "6fc66100",
   "metadata": {},
   "outputs": [
    {
     "data": {
      "text/plain": [
       "array([  -9.16088483, -205.46225988,  516.68462383,  340.62734108,\n",
       "       -895.54360867,  561.21453306,  153.88478595,  126.73431596,\n",
       "        861.12139955,   52.41982836])"
      ]
     },
     "execution_count": 62,
     "metadata": {},
     "output_type": "execute_result"
    }
   ],
   "source": [
    "lr.coef_"
   ]
  },
  {
   "cell_type": "code",
   "execution_count": 64,
   "id": "c6916c49",
   "metadata": {},
   "outputs": [
    {
     "data": {
      "text/plain": [
       "151.8833452085463"
      ]
     },
     "execution_count": 64,
     "metadata": {},
     "output_type": "execute_result"
    }
   ],
   "source": [
    "lr.intercept_"
   ]
  },
  {
   "cell_type": "markdown",
   "id": "06457a6d",
   "metadata": {},
   "source": [
    "# Polynomial linear regression"
   ]
  },
  {
   "cell_type": "code",
   "execution_count": 1,
   "id": "a7070cdf",
   "metadata": {},
   "outputs": [],
   "source": [
    "import numpy as np\n",
    "import matplotlib.pyplot as plt\n",
    "\n",
    "from sklearn.model_selection import train_test_split\n",
    "\n",
    "from sklearn.linear_model import LinearRegression,SGDRegressor\n",
    "\n",
    "from sklearn.preprocessing import PolynomialFeatures,StandardScaler\n",
    "\n",
    "from sklearn.metrics import r2_score\n",
    "\n",
    "from sklearn.pipeline import Pipeline"
   ]
  },
  {
   "cell_type": "code",
   "execution_count": 2,
   "id": "97e8a9a1",
   "metadata": {},
   "outputs": [],
   "source": [
    "x = 6 * np.random.rand(200, 1) - 3   #finding 200 random points between 3 and -3\n",
    "y = 0.8 * x**2 + 0.9 * x + 2 + np.random.randn(200, 1)   # findind a y for every x using such equation\n",
    "# y = 0.8x^2 + 0.9x + 2"
   ]
  },
  {
   "cell_type": "code",
   "execution_count": 5,
   "id": "177ea7ad",
   "metadata": {},
   "outputs": [
    {
     "data": {
      "text/plain": [
       "[<matplotlib.lines.Line2D at 0x24fe76fecc8>]"
      ]
     },
     "execution_count": 5,
     "metadata": {},
     "output_type": "execute_result"
    },
    {
     "data": {
      "image/png": "[encoded data removed]",
      "text/plain": [
       "<Figure size 640x480 with 1 Axes>"
      ]
     },
     "metadata": {},
     "output_type": "display_data"
    }
   ],
   "source": [
    "plt.plot(x,y,'b.')"
   ]
  },
  {
   "cell_type": "code",
   "execution_count": 6,
   "id": "6a86aa9a",
   "metadata": {},
   "outputs": [],
   "source": [
    "x_train,x_test,y_train,y_test = train_test_split(x,y,test_size=0.2,random_state=2)"
   ]
  },
  {
   "cell_type": "code",
   "execution_count": 7,
   "id": "ac523492",
   "metadata": {},
   "outputs": [
    {
     "data": {
      "text/plain": [
       "array([[ 2.10892602],\n",
       "       [ 1.36823895],\n",
       "       [-0.1815838 ],\n",
       "       [-2.28961897],\n",
       "       [ 2.02073049],\n",
       "       [ 0.35900264],\n",
       "       [ 0.08867146],\n",
       "       [ 0.4401768 ],\n",
       "       [ 1.01494238],\n",
       "       [-2.73992703],\n",
       "       [-0.3130455 ],\n",
       "       [-2.48618878],\n",
       "       [ 2.61368562],\n",
       "       [-1.92856207],\n",
       "       [-1.7720929 ],\n",
       "       [-1.32823765],\n",
       "       [ 2.07450564],\n",
       "       [-0.96665355],\n",
       "       [-0.10791306],\n",
       "       [-0.14350757],\n",
       "       [-1.1588088 ],\n",
       "       [-2.58594676],\n",
       "       [ 2.91418629],\n",
       "       [ 0.40484176],\n",
       "       [ 1.52417555],\n",
       "       [ 0.24596101],\n",
       "       [-0.77725175],\n",
       "       [-1.26193669],\n",
       "       [-0.06304936],\n",
       "       [ 1.5883966 ],\n",
       "       [-2.06696157],\n",
       "       [ 2.72393139],\n",
       "       [ 0.53932901],\n",
       "       [ 0.94979239],\n",
       "       [-2.00720147],\n",
       "       [ 2.12816574],\n",
       "       [-0.75423807],\n",
       "       [ 0.9223685 ],\n",
       "       [-2.91115312],\n",
       "       [ 2.77153704],\n",
       "       [ 0.90735157],\n",
       "       [-2.60255222],\n",
       "       [ 2.10775829],\n",
       "       [-0.75337813],\n",
       "       [ 2.6253201 ],\n",
       "       [ 0.59985886],\n",
       "       [ 2.00468763],\n",
       "       [ 1.12991525],\n",
       "       [ 1.73297214],\n",
       "       [-1.28615282],\n",
       "       [-0.4575199 ],\n",
       "       [ 1.88389962],\n",
       "       [-0.59258908],\n",
       "       [-0.46215775],\n",
       "       [-2.99164396],\n",
       "       [ 0.98580281],\n",
       "       [-2.78242576],\n",
       "       [-1.30647212],\n",
       "       [ 0.11950379],\n",
       "       [ 1.75939019],\n",
       "       [-0.08271678],\n",
       "       [ 2.33865119],\n",
       "       [-0.65895637],\n",
       "       [-1.53787605],\n",
       "       [-2.96746181],\n",
       "       [-1.27091666],\n",
       "       [ 0.39410602],\n",
       "       [ 0.59113032],\n",
       "       [ 0.4189027 ],\n",
       "       [ 1.51244039],\n",
       "       [ 2.44534852],\n",
       "       [-2.55668063],\n",
       "       [ 1.80672378],\n",
       "       [-1.00809637],\n",
       "       [ 0.38008036],\n",
       "       [ 2.19991636],\n",
       "       [-0.22071363],\n",
       "       [-1.06497076],\n",
       "       [-2.99761115],\n",
       "       [ 2.62832285],\n",
       "       [-2.46394828],\n",
       "       [ 0.57895382],\n",
       "       [-0.26284867],\n",
       "       [ 0.51020314],\n",
       "       [-1.40678507],\n",
       "       [ 0.58190242],\n",
       "       [ 1.00596665],\n",
       "       [ 2.12924696],\n",
       "       [-2.84326684],\n",
       "       [-1.70039053],\n",
       "       [ 1.45061836],\n",
       "       [ 2.24613752],\n",
       "       [ 2.15169652],\n",
       "       [ 2.90865636],\n",
       "       [-2.16529895],\n",
       "       [ 0.4676177 ],\n",
       "       [-0.08226287],\n",
       "       [ 0.59850777],\n",
       "       [-1.76625617],\n",
       "       [ 2.29547002],\n",
       "       [-0.15486318],\n",
       "       [ 0.79259133],\n",
       "       [ 0.77539965],\n",
       "       [ 2.38504479],\n",
       "       [-2.10108584],\n",
       "       [ 0.07312703],\n",
       "       [ 1.17662537],\n",
       "       [ 1.00135929],\n",
       "       [ 2.13224426],\n",
       "       [ 2.23822895],\n",
       "       [-2.10330749],\n",
       "       [ 0.06709723],\n",
       "       [ 2.94511065],\n",
       "       [ 0.95006794],\n",
       "       [ 2.71044351],\n",
       "       [-0.62483591],\n",
       "       [-2.66825576],\n",
       "       [-1.3441576 ],\n",
       "       [-1.38527149],\n",
       "       [ 2.42817353],\n",
       "       [ 1.19420485],\n",
       "       [ 2.45587806],\n",
       "       [-0.85155037],\n",
       "       [ 1.3377363 ],\n",
       "       [ 0.48736943],\n",
       "       [ 0.92468906],\n",
       "       [ 0.76548913],\n",
       "       [-1.68319107],\n",
       "       [ 1.0568008 ],\n",
       "       [ 1.12752676],\n",
       "       [-0.32965367],\n",
       "       [-1.43769233],\n",
       "       [ 1.69336557],\n",
       "       [-2.3447785 ],\n",
       "       [ 1.71784903],\n",
       "       [ 1.24195673],\n",
       "       [-0.6106322 ],\n",
       "       [ 2.2366518 ],\n",
       "       [ 0.23840542],\n",
       "       [-1.18006274],\n",
       "       [-1.80060842],\n",
       "       [ 2.55032266],\n",
       "       [-0.28622022],\n",
       "       [ 0.57635442],\n",
       "       [-1.76789225],\n",
       "       [ 2.31489131],\n",
       "       [-0.66362154],\n",
       "       [-0.30255763],\n",
       "       [ 2.85363923],\n",
       "       [-1.30339964],\n",
       "       [ 1.84496986],\n",
       "       [-0.37082562],\n",
       "       [-2.26689294],\n",
       "       [-0.25156154],\n",
       "       [-0.14208214],\n",
       "       [-0.89364242],\n",
       "       [ 2.27156762],\n",
       "       [ 2.53871607],\n",
       "       [-1.3557291 ],\n",
       "       [-2.32248853]])"
      ]
     },
     "execution_count": 7,
     "metadata": {},
     "output_type": "execute_result"
    }
   ],
   "source": [
    "x_train"
   ]
  },
  {
   "cell_type": "code",
   "execution_count": 8,
   "id": "5489577c",
   "metadata": {},
   "outputs": [
    {
     "data": {
      "text/plain": [
       "array([[ 8.98780929],\n",
       "       [ 5.28697527],\n",
       "       [ 2.29685944],\n",
       "       [ 2.8266345 ],\n",
       "       [ 5.10509978],\n",
       "       [ 1.19176754],\n",
       "       [ 1.40016148],\n",
       "       [ 4.69936893],\n",
       "       [ 4.387067  ],\n",
       "       [ 6.03171573],\n",
       "       [ 1.90906882],\n",
       "       [ 3.2769061 ],\n",
       "       [ 8.9015685 ],\n",
       "       [ 1.99686372],\n",
       "       [ 4.37933313],\n",
       "       [ 0.17552379],\n",
       "       [ 7.7316431 ],\n",
       "       [ 1.92770691],\n",
       "       [ 2.8365985 ],\n",
       "       [ 0.0748999 ],\n",
       "       [ 2.18810087],\n",
       "       [ 7.49562848],\n",
       "       [10.48596974],\n",
       "       [ 0.54740869],\n",
       "       [ 3.30736903],\n",
       "       [ 0.77035153],\n",
       "       [ 1.24615609],\n",
       "       [ 2.6451408 ],\n",
       "       [-0.37016472],\n",
       "       [ 4.64266245],\n",
       "       [ 2.81131247],\n",
       "       [10.58781337],\n",
       "       [ 4.20230086],\n",
       "       [ 2.12335218],\n",
       "       [ 5.69247755],\n",
       "       [ 7.46361638],\n",
       "       [ 2.27591208],\n",
       "       [ 2.67552412],\n",
       "       [ 5.29851841],\n",
       "       [10.90441943],\n",
       "       [ 3.23979619],\n",
       "       [ 6.0856445 ],\n",
       "       [ 8.97675514],\n",
       "       [ 2.63446189],\n",
       "       [ 9.68695448],\n",
       "       [ 3.84619224],\n",
       "       [ 7.28796694],\n",
       "       [ 2.12423406],\n",
       "       [ 3.31312063],\n",
       "       [ 3.70651794],\n",
       "       [ 3.33694748],\n",
       "       [ 8.17621219],\n",
       "       [ 2.96572228],\n",
       "       [ 0.93749349],\n",
       "       [ 5.78129086],\n",
       "       [ 2.85989487],\n",
       "       [ 6.67742938],\n",
       "       [ 3.76934077],\n",
       "       [ 2.1552446 ],\n",
       "       [ 5.58732093],\n",
       "       [ 2.75081302],\n",
       "       [ 7.88498416],\n",
       "       [ 2.13445562],\n",
       "       [ 1.98001875],\n",
       "       [ 6.82124534],\n",
       "       [ 1.65536942],\n",
       "       [ 2.00900823],\n",
       "       [ 3.81444888],\n",
       "       [ 2.73757292],\n",
       "       [ 5.20114502],\n",
       "       [10.14546808],\n",
       "       [ 3.7064672 ],\n",
       "       [ 6.24540526],\n",
       "       [ 0.15664481],\n",
       "       [ 3.19843776],\n",
       "       [ 9.40902432],\n",
       "       [ 0.07814106],\n",
       "       [ 2.72203057],\n",
       "       [ 6.11399482],\n",
       "       [12.41518453],\n",
       "       [ 5.80935162],\n",
       "       [ 2.61357756],\n",
       "       [ 1.96523107],\n",
       "       [ 3.78608513],\n",
       "       [ 2.21952743],\n",
       "       [ 3.28471176],\n",
       "       [ 3.70350973],\n",
       "       [ 8.97531515],\n",
       "       [ 6.28161524],\n",
       "       [ 2.96596573],\n",
       "       [ 7.95942093],\n",
       "       [ 7.46953073],\n",
       "       [ 7.84216083],\n",
       "       [11.65898813],\n",
       "       [ 3.69549535],\n",
       "       [ 3.68952676],\n",
       "       [ 2.99764899],\n",
       "       [ 1.84567905],\n",
       "       [ 3.17165293],\n",
       "       [10.01660948],\n",
       "       [ 2.56995314],\n",
       "       [ 2.02718177],\n",
       "       [ 3.78664853],\n",
       "       [ 8.16631484],\n",
       "       [ 3.50945679],\n",
       "       [ 2.13472874],\n",
       "       [ 4.42155478],\n",
       "       [ 5.20678124],\n",
       "       [ 6.52514741],\n",
       "       [ 8.51596157],\n",
       "       [ 2.55563399],\n",
       "       [ 1.37340915],\n",
       "       [11.62659711],\n",
       "       [ 4.12770247],\n",
       "       [11.09327515],\n",
       "       [ 2.54348998],\n",
       "       [ 4.88828816],\n",
       "       [ 1.5425665 ],\n",
       "       [ 2.8221098 ],\n",
       "       [ 7.91692396],\n",
       "       [ 2.80298484],\n",
       "       [ 7.52051719],\n",
       "       [ 2.39847481],\n",
       "       [ 5.97371764],\n",
       "       [ 2.84426604],\n",
       "       [ 4.62094069],\n",
       "       [ 3.58844868],\n",
       "       [ 2.25485865],\n",
       "       [ 3.35824056],\n",
       "       [ 4.37019353],\n",
       "       [ 1.92024402],\n",
       "       [ 3.28225969],\n",
       "       [ 6.88164635],\n",
       "       [ 3.56711216],\n",
       "       [ 5.74288425],\n",
       "       [ 4.53751302],\n",
       "       [ 2.26899729],\n",
       "       [ 8.2495247 ],\n",
       "       [ 2.35031773],\n",
       "       [ 2.62479289],\n",
       "       [ 2.35615608],\n",
       "       [ 8.40905572],\n",
       "       [ 1.60503499],\n",
       "       [ 2.46984035],\n",
       "       [ 1.09276826],\n",
       "       [ 8.7902832 ],\n",
       "       [ 1.18977391],\n",
       "       [ 0.9139229 ],\n",
       "       [10.66712987],\n",
       "       [ 3.93686602],\n",
       "       [ 5.1151778 ],\n",
       "       [ 2.0722447 ],\n",
       "       [ 6.39252743],\n",
       "       [ 2.4876611 ],\n",
       "       [ 2.12312974],\n",
       "       [ 3.34317313],\n",
       "       [ 7.74826188],\n",
       "       [ 9.59084965],\n",
       "       [ 3.31549854],\n",
       "       [ 4.0244969 ]])"
      ]
     },
     "execution_count": 8,
     "metadata": {},
     "output_type": "execute_result"
    }
   ],
   "source": [
    "y_train"
   ]
  },
  {
   "cell_type": "code",
   "execution_count": 9,
   "id": "c3e5f31f",
   "metadata": {},
   "outputs": [],
   "source": [
    "lr = LinearRegression()"
   ]
  },
  {
   "cell_type": "code",
   "execution_count": 10,
   "id": "f31c0eab",
   "metadata": {},
   "outputs": [
    {
     "data": {
      "text/plain": [
       "LinearRegression(copy_X=True, fit_intercept=True, n_jobs=None, normalize=False)"
      ]
     },
     "execution_count": 10,
     "metadata": {},
     "output_type": "execute_result"
    }
   ],
   "source": [
    "lr.fit(x_train,y_train)"
   ]
  },
  {
   "cell_type": "code",
   "execution_count": 11,
   "id": "6fb6c20b",
   "metadata": {},
   "outputs": [],
   "source": [
    "y_predict=lr.predict(x_test)"
   ]
  },
  {
   "cell_type": "code",
   "execution_count": 13,
   "id": "d47082de",
   "metadata": {},
   "outputs": [
    {
     "data": {
      "text/plain": [
       "0.27800793579917993"
      ]
     },
     "execution_count": 13,
     "metadata": {},
     "output_type": "execute_result"
    }
   ],
   "source": [
    "r2_score(y_test,y_predict) # not a good score"
   ]
  },
  {
   "cell_type": "code",
   "execution_count": 14,
   "id": "0750c5c1",
   "metadata": {},
   "outputs": [
    {
     "data": {
      "image/png": "[encoded data removed]",
      "text/plain": [
       "<Figure size 640x480 with 1 Axes>"
      ]
     },
     "metadata": {},
     "output_type": "display_data"
    }
   ],
   "source": [
    "plt.plot(x_train,lr.predict(x_train),color='r')\n",
    "plt.plot(x, y, \"b.\")\n",
    "plt.xlabel(\"x\")\n",
    "plt.ylabel(\"y\")\n",
    "plt.show()"
   ]
  },
  {
   "cell_type": "markdown",
   "id": "cf7d9ea8",
   "metadata": {},
   "source": [
    "applying polynomial transform"
   ]
  },
  {
   "cell_type": "code",
   "execution_count": 15,
   "id": "f401b099",
   "metadata": {},
   "outputs": [],
   "source": [
    "poly = PolynomialFeatures(degree=2,include_bias=True)\n",
    "\n",
    "x_train_trans = poly.fit_transform(x_train)\n",
    "x_test_trans = poly.fit_transform(x_test)"
   ]
  },
  {
   "cell_type": "code",
   "execution_count": 16,
   "id": "8ca3ac46",
   "metadata": {},
   "outputs": [
    {
     "name": "stdout",
     "output_type": "stream",
     "text": [
      "[2.10892602]\n",
      "[1.         2.10892602 4.44756898]\n"
     ]
    }
   ],
   "source": [
    "print(x_train[0])\n",
    "print(x_train_trans[0])"
   ]
  },
  {
   "cell_type": "code",
   "execution_count": 17,
   "id": "d1f8d6c6",
   "metadata": {},
   "outputs": [
    {
     "data": {
      "text/plain": [
       "LinearRegression(copy_X=True, fit_intercept=True, n_jobs=None, normalize=False)"
      ]
     },
     "execution_count": 17,
     "metadata": {},
     "output_type": "execute_result"
    }
   ],
   "source": [
    "lr.fit(x_train_trans,y_train)"
   ]
  },
  {
   "cell_type": "code",
   "execution_count": 18,
   "id": "7478db4d",
   "metadata": {},
   "outputs": [],
   "source": [
    "y_pred = lr.predict(x_test_trans)"
   ]
  },
  {
   "cell_type": "code",
   "execution_count": 19,
   "id": "4513eaf9",
   "metadata": {},
   "outputs": [
    {
     "data": {
      "text/plain": [
       "array([[ 5.70625658],\n",
       "       [ 2.22719954],\n",
       "       [10.36297515],\n",
       "       [ 4.69593845],\n",
       "       [ 3.75366257],\n",
       "       [ 1.85439282],\n",
       "       [ 2.18181926],\n",
       "       [ 5.60796353],\n",
       "       [ 1.83709851],\n",
       "       [ 4.36097003],\n",
       "       [ 5.37304901],\n",
       "       [ 9.88110766],\n",
       "       [ 4.00514983],\n",
       "       [ 4.77640564],\n",
       "       [ 2.66746843],\n",
       "       [11.13767256],\n",
       "       [ 9.07656451],\n",
       "       [ 2.78475552],\n",
       "       [ 2.52476772],\n",
       "       [ 2.70824823],\n",
       "       [ 5.79108228],\n",
       "       [ 3.99398724],\n",
       "       [ 5.32040664],\n",
       "       [ 3.68684144],\n",
       "       [ 8.4554191 ],\n",
       "       [ 1.98131063],\n",
       "       [ 1.88534404],\n",
       "       [ 1.96623344],\n",
       "       [ 3.04386374],\n",
       "       [ 3.99937295],\n",
       "       [ 1.90974569],\n",
       "       [11.58300339],\n",
       "       [ 4.57721205],\n",
       "       [ 5.4191894 ],\n",
       "       [ 1.87119473],\n",
       "       [ 1.97622249],\n",
       "       [ 2.42692302],\n",
       "       [ 6.77193787],\n",
       "       [ 2.84836667],\n",
       "       [ 6.2771545 ]])"
      ]
     },
     "execution_count": 19,
     "metadata": {},
     "output_type": "execute_result"
    }
   ],
   "source": [
    "y_pred"
   ]
  },
  {
   "cell_type": "code",
   "execution_count": 20,
   "id": "eade97a3",
   "metadata": {},
   "outputs": [
    {
     "data": {
      "text/plain": [
       "0.8508154047865057"
      ]
     },
     "execution_count": 20,
     "metadata": {},
     "output_type": "execute_result"
    }
   ],
   "source": [
    "r2_score(y_pred,y_test)"
   ]
  },
  {
   "cell_type": "code",
   "execution_count": 21,
   "id": "c592b45f",
   "metadata": {},
   "outputs": [
    {
     "name": "stdout",
     "output_type": "stream",
     "text": [
      "[[0.         0.88865106 0.79675528]]\n",
      "[2.08396813]\n"
     ]
    }
   ],
   "source": [
    "print(lr.coef_)\n",
    "print(lr.intercept_)"
   ]
  },
  {
   "cell_type": "code",
   "execution_count": 33,
   "id": "930d2bb2",
   "metadata": {},
   "outputs": [
    {
     "data": {
      "image/png": "[encoded data removed]",
      "text/plain": [
       "<Figure size 640x480 with 1 Axes>"
      ]
     },
     "metadata": {},
     "output_type": "display_data"
    }
   ],
   "source": [
    "plt.plot(x_train,lr.predict(x_train_trans),color='r')\n",
    "plt.plot(x_train, y_train, \"b.\",label='Training points')\n",
    "plt.plot(x_test, y_test, \"g.\",label='Testing points')\n",
    "plt.xlabel(\"X\")\n",
    "plt.ylabel(\"y\")\n",
    "plt.legend()\n",
    "plt.show()"
   ]
  },
  {
   "cell_type": "code",
   "execution_count": null,
   "id": "c4cb23bd",
   "metadata": {},
   "outputs": [],
   "source": []
  }
 ],
 "metadata": {
  "kernelspec": {
   "display_name": "Python 3 (ipykernel)",
   "language": "python",
   "name": "python3"
  },
  "language_info": {
   "codemirror_mode": {
    "name": "ipython",
    "version": 3
   },
   "file_extension": ".py",
   "mimetype": "text/x-python",
   "name": "python",
   "nbconvert_exporter": "python",
   "pygments_lexer": "ipython3",
   "version": "3.7.12"
  }
 },
 "nbformat": 4,
 "nbformat_minor": 5
}
